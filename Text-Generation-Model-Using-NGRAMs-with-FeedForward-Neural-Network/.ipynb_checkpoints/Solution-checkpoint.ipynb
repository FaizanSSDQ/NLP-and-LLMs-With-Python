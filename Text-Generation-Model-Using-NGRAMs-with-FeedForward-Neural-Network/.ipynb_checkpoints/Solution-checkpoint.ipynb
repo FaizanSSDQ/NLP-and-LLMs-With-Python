{
 "cells": [
  {
   "cell_type": "code",
   "execution_count": 3,
   "id": "c4183735-1f4e-4f4b-99c6-b9a8bbf38dbd",
   "metadata": {
    "tags": []
   },
   "outputs": [
    {
     "name": "stderr",
     "output_type": "stream",
     "text": [
      "'mamba' is not recognized as an internal or external command,\n",
      "operable program or batch file.\n"
     ]
    },
    {
     "name": "stdout",
     "output_type": "stream",
     "text": [
      "Defaulting to user installation because normal site-packages is not writeable\n",
      "Requirement already satisfied: torchtext in c:\\users\\hp\\appdata\\roaming\\python\\python311\\site-packages (0.17.2)\n",
      "Requirement already satisfied: tqdm in c:\\programdata\\anaconda3\\lib\\site-packages (from torchtext) (4.65.0)\n",
      "Requirement already satisfied: requests in c:\\programdata\\anaconda3\\lib\\site-packages (from torchtext) (2.31.0)\n",
      "Requirement already satisfied: torch==2.2.2 in c:\\users\\hp\\appdata\\roaming\\python\\python311\\site-packages (from torchtext) (2.2.2)\n",
      "Requirement already satisfied: numpy in c:\\programdata\\anaconda3\\lib\\site-packages (from torchtext) (1.24.3)\n",
      "Requirement already satisfied: filelock in c:\\programdata\\anaconda3\\lib\\site-packages (from torch==2.2.2->torchtext) (3.9.0)\n",
      "Requirement already satisfied: typing-extensions>=4.8.0 in c:\\users\\hp\\appdata\\roaming\\python\\python311\\site-packages (from torch==2.2.2->torchtext) (4.12.2)\n",
      "Requirement already satisfied: sympy in c:\\users\\hp\\appdata\\roaming\\python\\python311\\site-packages (from torch==2.2.2->torchtext) (1.13.1)\n",
      "Requirement already satisfied: networkx in c:\\programdata\\anaconda3\\lib\\site-packages (from torch==2.2.2->torchtext) (3.1)\n",
      "Requirement already satisfied: jinja2 in c:\\programdata\\anaconda3\\lib\\site-packages (from torch==2.2.2->torchtext) (3.1.2)\n",
      "Requirement already satisfied: fsspec in c:\\programdata\\anaconda3\\lib\\site-packages (from torch==2.2.2->torchtext) (2023.4.0)\n",
      "Requirement already satisfied: charset-normalizer<4,>=2 in c:\\programdata\\anaconda3\\lib\\site-packages (from requests->torchtext) (2.0.4)\n",
      "Requirement already satisfied: idna<4,>=2.5 in c:\\programdata\\anaconda3\\lib\\site-packages (from requests->torchtext) (3.4)\n",
      "Requirement already satisfied: urllib3<3,>=1.21.1 in c:\\programdata\\anaconda3\\lib\\site-packages (from requests->torchtext) (1.26.16)\n",
      "Requirement already satisfied: certifi>=2017.4.17 in c:\\programdata\\anaconda3\\lib\\site-packages (from requests->torchtext) (2023.7.22)\n",
      "Requirement already satisfied: colorama in c:\\programdata\\anaconda3\\lib\\site-packages (from tqdm->torchtext) (0.4.6)\n",
      "Requirement already satisfied: MarkupSafe>=2.0 in c:\\programdata\\anaconda3\\lib\\site-packages (from jinja2->torch==2.2.2->torchtext) (2.1.1)\n",
      "Requirement already satisfied: mpmath<1.4,>=1.1.0 in c:\\programdata\\anaconda3\\lib\\site-packages (from sympy->torch==2.2.2->torchtext) (1.3.0)\n"
     ]
    }
   ],
   "source": [
    "!mamba install -y nltk\n",
    "!pip install torchtext"
   ]
  },
  {
   "cell_type": "code",
   "execution_count": 4,
   "id": "3954fc4d-2287-49c1-bc81-0523d0cfb40a",
   "metadata": {},
   "outputs": [],
   "source": [
    "import warnings\n",
    "from tqdm import tqdm \n",
    "import nltk"
   ]
  },
  {
   "cell_type": "code",
   "execution_count": 84,
   "id": "09ba78d4-cf74-45af-8c16-44f166bdbf72",
   "metadata": {
    "tags": []
   },
   "outputs": [
    {
     "name": "stderr",
     "output_type": "stream",
     "text": [
      "[nltk_data] Downloading package punkt to\n",
      "[nltk_data]     C:\\Users\\HP\\AppData\\Roaming\\nltk_data...\n",
      "[nltk_data]   Package punkt is already up-to-date!\n"
     ]
    }
   ],
   "source": [
    "from collections import OrderedDict\n",
    "import time\n",
    "import re\n",
    "import numpy as np\n",
    "import matplotlib.pyplot as plt\n",
    "import pandas as pd\n",
    "import nltk\n",
    "nltk.download(\"punkt\")\n",
    "\n",
    "import torch\n",
    "import torch.nn as nn\n",
    "import torch.nn.functional as F\n",
    "import torch.optim as optim\n",
    "import string \n",
    "import time\n",
    "from sklearn.manifold import TSNE"
   ]
  },
  {
   "cell_type": "code",
   "execution_count": 6,
   "id": "96af36a5-8815-460e-9195-048d8ddb49f1",
   "metadata": {
    "tags": []
   },
   "outputs": [],
   "source": [
    "def warn(*args , **kwargs):\n",
    "    pass\n",
    "\n",
    "import warnings\n",
    "warnings.warn=warn\n",
    "\n"
   ]
  },
  {
   "cell_type": "code",
   "execution_count": 7,
   "id": "80d36ae9-dded-4df8-828c-d1452082466a",
   "metadata": {
    "tags": []
   },
   "outputs": [],
   "source": [
    "song= \"\"\"We are no strangers to love\n",
    "You know the rules and so do I\n",
    "A full commitments what Im thinking of\n",
    "You wouldnt get this from any other guy\n",
    "I just wanna tell you how Im feeling\n",
    "Gotta make you understand\n",
    "Never gonna give you up\n",
    "Never gonna let you down\n",
    "Never gonna run around and desert you\n",
    "Never gonna make you cry\n",
    "Never gonna say goodbye\n",
    "Never gonna tell a lie and hurt you\n",
    "Weve known each other for so long\n",
    "Your hearts been aching but youre too shy to say it\n",
    "Inside we both know whats been going on\n",
    "We know the game and were gonna play it\n",
    "And if you ask me how Im feeling\n",
    "Dont tell me youre too blind to see\n",
    "Never gonna give you up\n",
    "Never gonna let you down\n",
    "Never gonna run around and desert you\n",
    "Never gonna make you cry\n",
    "Never gonna say goodbye\n",
    "Never gonna tell a lie and hurt you\n",
    "Never gonna give you up\n",
    "Never gonna let you down\n",
    "Never gonna run around and desert you\n",
    "Never gonna make you cry\n",
    "Never gonna say goodbye\n",
    "Never gonna tell a lie and hurt you\n",
    "Weve known each other for so long\n",
    "Your hearts been aching but youre too shy to say it\n",
    "Inside we both know whats been going on\n",
    "We know the game and were gonna play it\n",
    "I just wanna tell you how Im feeling\n",
    "Gotta make you understand\n",
    "Never gonna give you up\n",
    "Never gonna let you down\n",
    "Never gonna run around and desert you\n",
    "Never gonna make you cry\n",
    "Never gonna say goodbye\n",
    "Never gonna tell a lie and hurt you\n",
    "Never gonna give you up\n",
    "Never gonna let you down\n",
    "Never gonna run around and desert you\n",
    "Never gonna make you cry\n",
    "Never gonna say goodbye\n",
    "Never gonna tell a lie and hurt you\n",
    "Never gonna give you up\n",
    "Never gonna let you down\n",
    "Never gonna run around and desert you\n",
    "Never gonna make you cry\n",
    "Never gonna say goodbye\n",
    "Never gonna tell a lie and hurt you\"\"\""
   ]
  },
  {
   "cell_type": "code",
   "execution_count": 8,
   "id": "910f1184-6005-416e-8383-57a4432cc4fe",
   "metadata": {
    "tags": []
   },
   "outputs": [],
   "source": [
    "def preprocess_string(s):\n",
    "    # Remove all non-word characters (everything except numbers and letters)\n",
    "    s = re.sub(r\"[^\\w\\s]\", '', s)\n",
    "    # Replace all runs of whitespaces with no space\n",
    "    s = re.sub(r\"\\s+\", '', s)\n",
    "    # replace digits with no space\n",
    "    s = re.sub(r\"\\d\", '', s)\n",
    "\n",
    "    return s"
   ]
  },
  {
   "cell_type": "code",
   "execution_count": 9,
   "id": "c474a6f2-a6ed-4d84-90d2-c7f99a82bf00",
   "metadata": {
    "tags": []
   },
   "outputs": [],
   "source": [
    "from nltk.tokenize import word_tokenize\n",
    "def preprocess(words):\n",
    "    tokens=word_tokenize(words)\n",
    "    tokens=[preprocess_string(w)   for w in tokens]\n",
    "    return [w.lower()  for w in tokens if len(w)!=0 or not(w in string.punctuation) ]\n",
    "\n",
    "tokens=preprocess(song)"
   ]
  },
  {
   "cell_type": "code",
   "execution_count": 10,
   "id": "96e82507-154e-4690-ab54-95e5ea4d1866",
   "metadata": {
    "tags": []
   },
   "outputs": [
    {
     "data": {
      "text/plain": [
       "['we', 'are', 'no', 'strangers', 'to', 'love', 'you', 'know', 'the', 'rules']"
      ]
     },
     "execution_count": 10,
     "metadata": {},
     "output_type": "execute_result"
    }
   ],
   "source": [
    "tokens[0:10]"
   ]
  },
  {
   "cell_type": "markdown",
   "id": "261a8591-4fdf-4668-9784-90201d285540",
   "metadata": {},
   "source": [
    "## Feedforward Neural Networks (FNNs) for language models\n",
    "\n",
    "FNNs, or Multi-Layer Perceptrons, serve as the foundational components for comprehending neural networks in natural language processing (NLP). In NLP tasks, FNNs process textual data by transforming it into numerical vectors known as embeddings. Subsequently, these embeddings are input to the network to predict language facets, such as the upcoming word in a sentence or the sentiment of a text.\n"
   ]
  },
  {
   "cell_type": "code",
   "execution_count": 11,
   "id": "b85ff1c6-4123-4056-85ef-2bce6e714ec8",
   "metadata": {
    "tags": []
   },
   "outputs": [],
   "source": [
    "from torchtext.data.utils import get_tokenizer\n",
    "from torchtext.vocab import build_vocab_from_iterator"
   ]
  },
  {
   "cell_type": "code",
   "execution_count": 10,
   "id": "32b9edeb-2efb-47fe-b2a1-903caf7c3426",
   "metadata": {
    "tags": []
   },
   "outputs": [
    {
     "name": "stdout",
     "output_type": "stream",
     "text": [
      "Help on function build_vocab_from_iterator in module torchtext.vocab.vocab_factory:\n",
      "\n",
      "build_vocab_from_iterator(iterator: Iterable, min_freq: int = 1, specials: Optional[List[str]] = None, special_first: bool = True, max_tokens: Optional[int] = None) -> torchtext.vocab.vocab.Vocab\n",
      "    Build a Vocab from an iterator.\n",
      "    \n",
      "    Args:\n",
      "        iterator: Iterator used to build Vocab. Must yield list or iterator of tokens.\n",
      "        min_freq: The minimum frequency needed to include a token in the vocabulary.\n",
      "        specials: Special symbols to add. The order of supplied tokens will be preserved.\n",
      "        special_first: Indicates whether to insert symbols at the beginning or at the end.\n",
      "        max_tokens: If provided, creates the vocab from the `max_tokens - len(specials)` most frequent tokens.\n",
      "    \n",
      "    \n",
      "    Returns:\n",
      "        torchtext.vocab.Vocab: A `Vocab` object\n",
      "    \n",
      "    Examples:\n",
      "        >>> #generating vocab from text file\n",
      "        >>> import io\n",
      "        >>> from torchtext.vocab import build_vocab_from_iterator\n",
      "        >>> def yield_tokens(file_path):\n",
      "        >>>     with io.open(file_path, encoding = 'utf-8') as f:\n",
      "        >>>         for line in f:\n",
      "        >>>             yield line.strip().split()\n",
      "        >>> vocab = build_vocab_from_iterator(yield_tokens(file_path), specials=[\"<unk>\"])\n",
      "\n"
     ]
    }
   ],
   "source": [
    "help(build_vocab_from_iterator)"
   ]
  },
  {
   "cell_type": "code",
   "execution_count": 12,
   "id": "3183feda-bf0f-459c-b564-c94f8cb6c413",
   "metadata": {
    "tags": []
   },
   "outputs": [],
   "source": [
    "tokenizer = get_tokenizer(\"basic_english\")\n",
    "tokens = tokenizer(song)"
   ]
  },
  {
   "cell_type": "code",
   "execution_count": 12,
   "id": "20bf54d8-a24e-4ec3-a278-37be7b042ffa",
   "metadata": {
    "tags": []
   },
   "outputs": [
    {
     "data": {
      "text/plain": [
       "list"
      ]
     },
     "execution_count": 12,
     "metadata": {},
     "output_type": "execute_result"
    }
   ],
   "source": [
    "type(tokens)"
   ]
  },
  {
   "cell_type": "code",
   "execution_count": 13,
   "id": "6dd05afa-bf0a-4625-841c-854fb6cbbfa1",
   "metadata": {
    "tags": []
   },
   "outputs": [
    {
     "data": {
      "text/plain": [
       "['we',\n",
       " 'are',\n",
       " 'no',\n",
       " 'strangers',\n",
       " 'to',\n",
       " 'love',\n",
       " 'you',\n",
       " 'know',\n",
       " 'the',\n",
       " 'rules',\n",
       " 'and',\n",
       " 'so',\n",
       " 'do',\n",
       " 'i',\n",
       " 'a']"
      ]
     },
     "execution_count": 13,
     "metadata": {},
     "output_type": "execute_result"
    }
   ],
   "source": [
    "tokens[0:15]"
   ]
  },
  {
   "cell_type": "code",
   "execution_count": 14,
   "id": "7e2966f8-c88c-4ce9-a064-1ae5843998b8",
   "metadata": {
    "tags": []
   },
   "outputs": [
    {
     "data": {
      "text/plain": [
       "function"
      ]
     },
     "execution_count": 14,
     "metadata": {},
     "output_type": "execute_result"
    }
   ],
   "source": [
    "type(tokenizer)"
   ]
  },
  {
   "cell_type": "code",
   "execution_count": 15,
   "id": "fe9f12d3-061c-4521-9fd0-06e7a4737e95",
   "metadata": {
    "tags": []
   },
   "outputs": [],
   "source": [
    "tokenized_song = map(tokenizer , song.split())"
   ]
  },
  {
   "cell_type": "code",
   "execution_count": 16,
   "id": "97c806d3-67e9-4c55-9cb7-86aa325907af",
   "metadata": {
    "tags": []
   },
   "outputs": [
    {
     "data": {
      "text/plain": [
       "map"
      ]
     },
     "execution_count": 16,
     "metadata": {},
     "output_type": "execute_result"
    }
   ],
   "source": [
    "type(tokenized_song)"
   ]
  },
  {
   "cell_type": "code",
   "execution_count": 17,
   "id": "90e059ce-b7c6-470e-a36c-feddab9b4845",
   "metadata": {
    "tags": []
   },
   "outputs": [
    {
     "name": "stdout",
     "output_type": "stream",
     "text": [
      "<map object at 0x000001A8C9074D30>\n"
     ]
    }
   ],
   "source": [
    "print(tokenized_song)"
   ]
  },
  {
   "cell_type": "code",
   "execution_count": 18,
   "id": "05957dda-e7fb-48d1-8898-195f15ce7d45",
   "metadata": {
    "tags": []
   },
   "outputs": [],
   "source": [
    "new_map = list(tokenized_song)"
   ]
  },
  {
   "cell_type": "code",
   "execution_count": 19,
   "id": "8a968ebf-52c4-44da-a88b-ab1a022c5a5a",
   "metadata": {
    "tags": []
   },
   "outputs": [
    {
     "data": {
      "text/plain": [
       "[['are'], ['no'], ['strangers'], ['to']]"
      ]
     },
     "execution_count": 19,
     "metadata": {},
     "output_type": "execute_result"
    }
   ],
   "source": [
    "new_map[1:5]"
   ]
  },
  {
   "cell_type": "code",
   "execution_count": 20,
   "id": "2c0bb356-5964-48d4-93e5-18b32c9c0485",
   "metadata": {
    "tags": []
   },
   "outputs": [],
   "source": [
    "vocab = build_vocab_from_iterator(tokenized_song , specials=[\"<unk>\"])"
   ]
  },
  {
   "cell_type": "code",
   "execution_count": 21,
   "id": "e5ae7019-7882-445e-9379-b016537a0125",
   "metadata": {
    "tags": []
   },
   "outputs": [
    {
     "data": {
      "text/plain": [
       "torchtext.vocab.vocab.Vocab"
      ]
     },
     "execution_count": 21,
     "metadata": {},
     "output_type": "execute_result"
    }
   ],
   "source": [
    "type(vocab)"
   ]
  },
  {
   "cell_type": "code",
   "execution_count": 22,
   "id": "d7a2b379-22c7-46ea-a580-720b51d8e205",
   "metadata": {
    "tags": []
   },
   "outputs": [
    {
     "name": "stdout",
     "output_type": "stream",
     "text": [
      "{'<unk>': 0}\n"
     ]
    }
   ],
   "source": [
    "print(vocab.get_stoi())"
   ]
  },
  {
   "cell_type": "code",
   "execution_count": 13,
   "id": "20fd99ad-d7bb-4416-9447-bf176f1bfc7f",
   "metadata": {
    "tags": []
   },
   "outputs": [],
   "source": [
    "# Create a vocabulary from text tokens\n",
    "\n",
    "# tokenize the 'song' text using the provided tokenizer.\n",
    "# The map function applies the tokenizer to each word in the 'song' after splitting it.\n",
    "# The result is a list of tokens representing the words in the 'song'.\n",
    "tokenized_song = map(tokenizer, song.split())\n",
    "\n",
    "# Step 2: Vocabulary Building\n",
    "# The build_vocab_from_iterator function constructs a vocabulary from the tokenized text.\n",
    "# In this case, add a special token \"<unk>\" (unknown token) to handle out-of-vocabulary words.\n",
    "vocab = build_vocab_from_iterator(tokenized_song, specials=[\"<unk>\"])\n",
    "\n",
    "# Step 3: Set Default Index\n",
    "# Set the default index for the vocabulary to the index corresponding to the \"<unk>\" token.\n",
    "# This ensures that any unknown tokens in the future will be mapped to this index.\n",
    "vocab.set_default_index(vocab[\"<unk>\"])"
   ]
  },
  {
   "cell_type": "code",
   "execution_count": 14,
   "id": "cb5573cf-7e90-4fef-8b67-9d968857182f",
   "metadata": {
    "tags": []
   },
   "outputs": [
    {
     "data": {
      "text/plain": [
       "[21, 58, 70, 74, 25, 69, 2, 20, 31, 72]"
      ]
     },
     "execution_count": 14,
     "metadata": {},
     "output_type": "execute_result"
    }
   ],
   "source": [
    "vocab(tokens[0:10])"
   ]
  },
  {
   "cell_type": "code",
   "execution_count": 17,
   "id": "be7163dc-c5d8-493f-88b5-613fbfd0018a",
   "metadata": {
    "tags": []
   },
   "outputs": [
    {
     "data": {
      "text/plain": [
       "[21, 58, 70, 74, 25, 69, 2, 20, 31, 72]"
      ]
     },
     "execution_count": 17,
     "metadata": {},
     "output_type": "execute_result"
    }
   ],
   "source": [
    "text_pipeline = lambda x : vocab(tokenizer(x))\n",
    "text_pipeline(song)[0:10]"
   ]
  },
  {
   "cell_type": "code",
   "execution_count": 18,
   "id": "d3d9254a-fa23-45bc-ada3-f11b6e15565e",
   "metadata": {
    "tags": []
   },
   "outputs": [
    {
     "data": {
      "text/plain": [
       "'<unk>'"
      ]
     },
     "execution_count": 18,
     "metadata": {},
     "output_type": "execute_result"
    }
   ],
   "source": [
    "index_to_token = vocab.get_itos()\n",
    "index_to_token[0]"
   ]
  },
  {
   "cell_type": "code",
   "execution_count": 27,
   "id": "30b4f6ad-fb74-40ba-ae09-07ca060c4855",
   "metadata": {
    "tags": []
   },
   "outputs": [
    {
     "data": {
      "text/plain": [
       "['<unk>', 'gonna', 'you', 'never', 'and', 'tell', 'make', 'say']"
      ]
     },
     "execution_count": 27,
     "metadata": {},
     "output_type": "execute_result"
    }
   ],
   "source": [
    "vocab.get_itos()[0:8]"
   ]
  },
  {
   "cell_type": "code",
   "execution_count": 19,
   "id": "122dc23b-1b22-4eef-bce7-76615e67f092",
   "metadata": {
    "tags": []
   },
   "outputs": [],
   "source": [
    "embedding_dim = 28\n",
    "vocab_size = len(vocab)\n",
    "embeddings = nn.Embedding(vocab_size , embedding_dim)"
   ]
  },
  {
   "cell_type": "code",
   "execution_count": 29,
   "id": "5ff8edcf-8e89-482e-b0f4-f48f5a4d8d43",
   "metadata": {
    "tags": []
   },
   "outputs": [
    {
     "data": {
      "text/plain": [
       "torch.nn.modules.sparse.Embedding"
      ]
     },
     "execution_count": 29,
     "metadata": {},
     "output_type": "execute_result"
    }
   ],
   "source": [
    "type(embeddings)"
   ]
  },
  {
   "cell_type": "code",
   "execution_count": 20,
   "id": "434dc66d-a48c-472e-ad00-74bf7bbc94c6",
   "metadata": {
    "tags": []
   },
   "outputs": [
    {
     "name": "stdout",
     "output_type": "stream",
     "text": [
      "word <unk>\n",
      "index 0\n",
      "embedding tensor([-0.1784,  1.2609,  1.8964,  0.1599,  0.3154, -0.5694, -0.9377,  0.5234,\n",
      "        -0.1294,  0.3625,  1.4100, -0.7363, -0.0812, -0.8805, -0.4267,  1.2779,\n",
      "        -1.1150, -1.3985, -0.7134,  1.1694,  0.4286, -0.4629,  1.0221, -0.2242,\n",
      "        -1.6561,  0.1260,  1.0161,  0.0613], grad_fn=<EmbeddingBackward0>)\n",
      "embedding shape torch.Size([28])\n",
      "word gonna\n",
      "index 1\n",
      "embedding tensor([-0.5153,  0.7276, -0.5424,  0.1294, -0.7779, -0.3795,  1.8299, -0.2423,\n",
      "         0.9319,  0.4042,  0.6595,  1.1764,  0.0649, -0.1971, -0.0735,  0.3567,\n",
      "         0.7673, -1.3907,  0.8861,  0.1662,  0.6105,  0.8570,  0.4259,  0.5887,\n",
      "        -0.4894,  0.6629,  0.9670,  0.4127], grad_fn=<EmbeddingBackward0>)\n",
      "embedding shape torch.Size([28])\n"
     ]
    }
   ],
   "source": [
    "for n in range(2): \n",
    "    embedding=embeddings(torch.tensor(n))\n",
    "    print(\"word\",index_to_token[n])\n",
    "    print(\"index\",n)\n",
    "    print( \"embedding\", embedding)\n",
    "    print(\"embedding shape\", embedding.shape)"
   ]
  },
  {
   "cell_type": "code",
   "execution_count": 21,
   "id": "0047f7d0-edce-4449-b90d-c8428a20336a",
   "metadata": {
    "tags": []
   },
   "outputs": [],
   "source": [
    "CONTEXT_SIZE = 2\n",
    "\n",
    "ngrams = [\n",
    "            ( \n",
    "            [tokens[i-j-1] for j in range(CONTEXT_SIZE)],\n",
    "            [tokens[i]]\n",
    "            )\n",
    "            for i in range(CONTEXT_SIZE , len(tokens))\n",
    "        \n",
    "        ]"
   ]
  },
  {
   "cell_type": "code",
   "execution_count": 22,
   "id": "b703ce85-3556-4c1d-bd61-5e794146dae6",
   "metadata": {
    "tags": []
   },
   "outputs": [
    {
     "name": "stdout",
     "output_type": "stream",
     "text": [
      "Context : ['are', 'we']\n",
      "Target : ['no']\n"
     ]
    }
   ],
   "source": [
    "context , target = ngrams[0]\n",
    "\n",
    "print(f\"Context : {context}\")\n",
    "print(f\"Target : {target}\")\n",
    "#print(\"Context Index : \" , vocab(context) , \"Target Index : \" , vocab([target]))"
   ]
  },
  {
   "cell_type": "code",
   "execution_count": 24,
   "id": "4edfaa0f-7c36-4e63-9203-cbb032fb070c",
   "metadata": {},
   "outputs": [],
   "source": [
    "linear = nn.Linear(CONTEXT_SIZE*embedding_dim , 128)"
   ]
  },
  {
   "cell_type": "code",
   "execution_count": 25,
   "id": "39e3d7ce-9b3c-483c-b748-d83e3ad30e6b",
   "metadata": {
    "tags": []
   },
   "outputs": [
    {
     "data": {
      "text/plain": [
       "[58, 21]"
      ]
     },
     "execution_count": 25,
     "metadata": {},
     "output_type": "execute_result"
    }
   ],
   "source": [
    "vocab(context)"
   ]
  },
  {
   "cell_type": "code",
   "execution_count": 27,
   "id": "39b957ec-eb37-484f-acfd-ce75c21c2c59",
   "metadata": {
    "tags": []
   },
   "outputs": [
    {
     "data": {
      "text/plain": [
       "[70]"
      ]
     },
     "execution_count": 27,
     "metadata": {},
     "output_type": "execute_result"
    }
   ],
   "source": [
    "vocab(target)"
   ]
  },
  {
   "cell_type": "code",
   "execution_count": 29,
   "id": "e7ad6feb-e321-4b21-b9fc-f4f9d5b20d70",
   "metadata": {
    "tags": []
   },
   "outputs": [
    {
     "data": {
      "text/plain": [
       "torch.Size([2, 28])"
      ]
     },
     "execution_count": 29,
     "metadata": {},
     "output_type": "execute_result"
    }
   ],
   "source": [
    "my_embeddings = embeddings(torch.tensor(vocab(context)))\n",
    "my_embeddings.shape"
   ]
  },
  {
   "cell_type": "code",
   "execution_count": 64,
   "id": "021f174c-68bd-4187-8c02-13f15835a6fc",
   "metadata": {
    "tags": []
   },
   "outputs": [
    {
     "data": {
      "text/plain": [
       "torch.Size([1, 56])"
      ]
     },
     "execution_count": 64,
     "metadata": {},
     "output_type": "execute_result"
    }
   ],
   "source": [
    "my_embeddings = my_embeddings.reshape(1 , -1)\n",
    "my_embeddings.shape"
   ]
  },
  {
   "cell_type": "code",
   "execution_count": 65,
   "id": "5df7ef8e-c41f-42ed-a6b1-aaab84e28c89",
   "metadata": {
    "tags": []
   },
   "outputs": [
    {
     "data": {
      "text/plain": [
       "tensor([[-1.0188, -0.9205,  1.3880, -0.6632,  0.6114,  0.2333,  0.1511, -0.1096,\n",
       "         -1.2386, -1.1560, -0.2072,  0.1940, -0.4857,  0.8516, -0.5962,  0.2394,\n",
       "          0.6751, -0.1547,  0.2312,  0.4177, -1.5560, -0.2043, -0.4193,  0.6818,\n",
       "          0.0307, -0.4001,  0.4860,  0.2169,  0.6334,  0.9119,  0.8510, -0.7010,\n",
       "         -0.1470, -0.0589, -0.8959, -0.0757,  0.4724, -0.0556,  0.1759, -0.5177,\n",
       "         -1.8223,  0.1171, -0.4601,  0.1447,  0.5670, -0.0143, -0.1653, -0.7826,\n",
       "         -0.3401, -0.6602,  0.7014, -0.0582,  0.7795,  0.0364,  0.1200, -0.2922,\n",
       "         -0.3931, -0.4112, -0.5405,  0.2561,  0.0285,  0.5039, -0.6846,  0.2783,\n",
       "         -0.3440, -1.0853,  0.0617, -0.8555, -0.5425, -0.8682, -0.3876,  0.5608,\n",
       "         -0.0094,  0.3103,  0.3819,  0.4075, -1.0356,  0.2230, -0.0976,  0.2747,\n",
       "          0.0535,  0.7016,  0.6586, -0.5754, -0.3029,  0.3184, -0.7183, -0.0354,\n",
       "         -0.3489, -1.1030, -0.8194, -0.4369, -0.5837,  0.5535, -0.7806, -0.3101,\n",
       "         -0.0588, -0.8915, -0.9342, -0.1858, -0.6487,  0.0341,  1.3063, -0.7338,\n",
       "          0.1755, -0.0132, -0.8370, -0.4741, -1.1304, -0.8461,  0.3358,  0.4542,\n",
       "          0.7184, -1.2988, -0.5885, -0.4896,  0.7194,  0.5198, -0.9721,  0.3845,\n",
       "          0.3177, -0.2128, -0.1250,  0.3107, -0.9646, -0.3556,  0.4719,  0.3405]],\n",
       "       grad_fn=<AddmmBackward0>)"
      ]
     },
     "execution_count": 65,
     "metadata": {},
     "output_type": "execute_result"
    }
   ],
   "source": [
    "linear(my_embeddings)"
   ]
  },
  {
   "cell_type": "code",
   "execution_count": 66,
   "id": "df89fff3-b11c-4185-a624-6bcde3465b4b",
   "metadata": {
    "tags": []
   },
   "outputs": [
    {
     "name": "stdout",
     "output_type": "stream",
     "text": [
      "[58, 21]\n",
      "['no']\n"
     ]
    }
   ],
   "source": [
    "x = vocab(context)\n",
    "print(x)\n",
    "y = vocab(target)\n",
    "print(target)"
   ]
  },
  {
   "cell_type": "code",
   "execution_count": 74,
   "id": "b3cde709-d16d-4d9c-8ea8-ea2371ebe85e",
   "metadata": {
    "tags": []
   },
   "outputs": [],
   "source": [
    "from torch.utils.data import DataLoader\n",
    "\n",
    "\n",
    "device = torch.device(\"cuda\" if torch.cuda.is_available() else \"cpu\" )\n",
    "CONTEXT_SIZE = 3\n",
    "BATCH_SIZE = 10\n",
    "EMBEDDING_DIM = 10\n",
    "def collate_batch(batch):\n",
    "    batch_size = len(batch)\n",
    "    context , target = [],[]\n",
    "    for i in range(CONTEXT_SIZE , batch_size):\n",
    "        target.append(vocab([batch[i]]))\n",
    "        context.append(vocab([batch[i-j-1] for j in range(CONTEXT_SIZE)]))\n",
    "        \n",
    "    return torch.tensor(context).to(device) , torch.tensor(target).to(device).reshape(1 , -1)"
   ]
  },
  {
   "cell_type": "code",
   "execution_count": 75,
   "id": "a0813159-e382-4fcd-bcd5-f86a82da7a05",
   "metadata": {
    "tags": []
   },
   "outputs": [
    {
     "data": {
      "text/plain": [
       "343"
      ]
     },
     "execution_count": 75,
     "metadata": {},
     "output_type": "execute_result"
    }
   ],
   "source": [
    "len(tokens)"
   ]
  },
  {
   "cell_type": "code",
   "execution_count": 76,
   "id": "ad92cce0-2edd-4382-a323-df6054092d34",
   "metadata": {
    "tags": []
   },
   "outputs": [],
   "source": [
    "Padding = BATCH_SIZE - len(tokens)%BATCH_SIZE\n",
    "tokens_pad = tokens + tokens[0:Padding]"
   ]
  },
  {
   "cell_type": "code",
   "execution_count": 77,
   "id": "7c296fda-afb9-487c-8de9-ddcb9e1773f5",
   "metadata": {
    "tags": []
   },
   "outputs": [],
   "source": [
    "dataloader = DataLoader (\n",
    "    tokens_pad,\n",
    "    batch_size = BATCH_SIZE,\n",
    "    shuffle = False,\n",
    "    collate_fn = collate_batch\n",
    "\n",
    ")"
   ]
  },
  {
   "cell_type": "code",
   "execution_count": 85,
   "id": "0b8a4871-8959-4583-bf9f-11f175df2fa9",
   "metadata": {
    "tags": []
   },
   "outputs": [],
   "source": [
    "class NGramLanguageModeler(nn.Module):\n",
    "    def __init__(self , vocab_size , embedding_dim , context_size):\n",
    "        super(NGramLanguageModeler , self).__init__()\n",
    "        self.context_size = context_size\n",
    "        self.embedding_dim = embedding_dim\n",
    "        self.embeddings = nn.Embedding(vocab_size , embedding_dim)\n",
    "        self.linear1 = nn.Linear(context_size*embedding_dim , 128)\n",
    "        self.linear2 = nn.Linear(128 , vocab_size)\n",
    "        \n",
    "    def forward(self , inputs):\n",
    "        embeds = self.embeddings(inputs)\n",
    "        embeds = torch.reshape(embeds  , (-1,self.context_size * self.embedding_dim))\n",
    "        out = F.relu(self.linear1(embeds))\n",
    "        out = self.linear2(out)\n",
    "        return out"
   ]
  },
  {
   "cell_type": "code",
   "execution_count": 86,
   "id": "8cacf869-032b-49f1-87a3-2853d6993e7b",
   "metadata": {
    "tags": []
   },
   "outputs": [],
   "source": [
    "model = NGramLanguageModeler(len(vocab) , EMBEDDING_DIM , CONTEXT_SIZE).to(device)"
   ]
  },
  {
   "cell_type": "code",
   "execution_count": 87,
   "id": "3e7e2ca0-3d57-4f09-874c-12fe47b44e09",
   "metadata": {
    "tags": []
   },
   "outputs": [],
   "source": [
    "context, target=next(iter(dataloader))\n",
    "out=model(context)"
   ]
  },
  {
   "cell_type": "code",
   "execution_count": 88,
   "id": "293d5d4c-ebb9-4dfa-bc8b-5630eb4d7703",
   "metadata": {
    "tags": []
   },
   "outputs": [
    {
     "data": {
      "text/plain": [
       "torch.Size([7, 79])"
      ]
     },
     "execution_count": 88,
     "metadata": {},
     "output_type": "execute_result"
    }
   ],
   "source": [
    "out.shape"
   ]
  },
  {
   "cell_type": "code",
   "execution_count": 89,
   "id": "2d504984-9500-4b08-bee5-b43c8d74f326",
   "metadata": {
    "tags": []
   },
   "outputs": [
    {
     "data": {
      "text/plain": [
       "tensor([19, 16, 38, 51, 52, 19, 22])"
      ]
     },
     "execution_count": 89,
     "metadata": {},
     "output_type": "execute_result"
    }
   ],
   "source": [
    "predicted_index = torch.argmax(out , 1)\n",
    "predicted_index"
   ]
  },
  {
   "cell_type": "code",
   "execution_count": 92,
   "id": "51c2c67d-9813-4d81-8c56-6fc8a1560a12",
   "metadata": {
    "tags": []
   },
   "outputs": [
    {
     "data": {
      "text/plain": [
       "'to'"
      ]
     },
     "execution_count": 92,
     "metadata": {},
     "output_type": "execute_result"
    }
   ],
   "source": [
    "index_to_token[25]"
   ]
  },
  {
   "cell_type": "code",
   "execution_count": 93,
   "id": "4a3e28e3-4c93-4c07-9579-b44fe0e9dbed",
   "metadata": {
    "tags": []
   },
   "outputs": [
    {
     "data": {
      "text/plain": [
       "['up', 'let', 'for', 'understand', 'wanna', 'up', 'been']"
      ]
     },
     "execution_count": 93,
     "metadata": {},
     "output_type": "execute_result"
    }
   ],
   "source": [
    "[index_to_token[i.item()] for i in predicted_index]"
   ]
  },
  {
   "cell_type": "code",
   "execution_count": 96,
   "id": "0578b858-9676-4aa6-ae0b-0ad8d3618908",
   "metadata": {
    "tags": []
   },
   "outputs": [
    {
     "name": "stdout",
     "output_type": "stream",
     "text": [
      "tensor(19)\n",
      "up\n",
      "tensor(16)\n",
      "let\n",
      "tensor(38)\n",
      "for\n",
      "tensor(51)\n",
      "understand\n",
      "tensor(52)\n",
      "wanna\n",
      "tensor(19)\n",
      "up\n",
      "tensor(22)\n",
      "been\n"
     ]
    }
   ],
   "source": [
    "for i in predicted_index:\n",
    "    print(i)\n",
    "    print(index_to_token[i])"
   ]
  },
  {
   "cell_type": "code",
   "execution_count": 97,
   "id": "0f5406c1-8961-475c-92b6-bdb26d6705f6",
   "metadata": {
    "tags": []
   },
   "outputs": [],
   "source": [
    "def write_song(model , number_of_words=100):\n",
    "    my_song = \"\"\n",
    "    for i in range(number_of_words):\n",
    "        with torch.no_grad():\n",
    "            context = torch.tensor(vocab([tokens[i-j-1] for j in range(CONTEXT_SIZE)])).to(device)\n",
    "            word_inx=torch.argmax(model(context))\n",
    "            my_song+= \" \"+index_to_token[word_inx.detach().item()]\n",
    "    return my_song"
   ]
  },
  {
   "cell_type": "code",
   "execution_count": 98,
   "id": "ab1e1602-1453-463c-abbe-2b520e1ac6da",
   "metadata": {
    "tags": []
   },
   "outputs": [
    {
     "data": {
      "text/plain": [
       "' let for cry up let for understand wanna up been strangers aching game let to any understand dont been wanna understand aching youre strangers are been but wanna let any say up understand cry but cry cry get feeling we to commitments cry but cry wanna youre cry dont lie to each goodbye i get up up been get for goodbye lie to too been dont youre up but dont cry but to up youre let up cry get im desert say let to up cry but up each feeling to each been whats but game cry what to give'"
      ]
     },
     "execution_count": 98,
     "metadata": {},
     "output_type": "execute_result"
    }
   ],
   "source": [
    "write_song(model)"
   ]
  },
  {
   "cell_type": "code",
   "execution_count": 99,
   "id": "0f00a299-5e62-4d17-99f5-21aecd6fecc7",
   "metadata": {
    "tags": []
   },
   "outputs": [],
   "source": [
    "# Training----------------------------------------------------"
   ]
  },
  {
   "cell_type": "code",
   "execution_count": 100,
   "id": "e37c1eb8-d3b3-43b5-8f68-7909b5b2f7f4",
   "metadata": {
    "tags": []
   },
   "outputs": [],
   "source": [
    "criterion = torch.nn.CrossEntropyLoss()"
   ]
  },
  {
   "cell_type": "code",
   "execution_count": 101,
   "id": "e6eaef24-0460-4c06-b705-cf2229242f10",
   "metadata": {
    "tags": []
   },
   "outputs": [],
   "source": [
    "def train(dataloader, model, number_of_epochs=100, show=10):\n",
    "    \"\"\"\n",
    "    Args:\n",
    "        dataloader (DataLoader): DataLoader containing training data.\n",
    "        model (nn.Module): Neural network model to be trained.\n",
    "        number_of_epochs (int, optional): Number of epochs for training. Default is 100.\n",
    "        show (int, optional): Interval for displaying progress. Default is 10.\n",
    "\n",
    "    Returns:\n",
    "        list: List containing loss values for each epoch.\n",
    "    \"\"\"\n",
    "\n",
    "    MY_LOSS = []  # List to store loss values for each epoch\n",
    "\n",
    "    # Iterate over the specified number of epochs\n",
    "    for epoch in tqdm(range(number_of_epochs)):\n",
    "        total_loss = 0  # Initialize total loss for the current epoch\n",
    "        my_song = \"\"    # Initialize a string to store the generated song\n",
    "\n",
    "        # Iterate over batches in the dataloader\n",
    "        for context, target in dataloader:\n",
    "            model.zero_grad()          # Zero the gradients to avoid accumulation\n",
    "            predicted = model(context)  # Forward pass through the model to get predictions\n",
    "            loss = criterion(predicted, target.reshape(-1))  # Calculate the loss\n",
    "            total_loss += loss.item()   # Accumulate the loss\n",
    "\n",
    "            loss.backward()    # Backpropagation to compute gradients\n",
    "            optimizer.step()   # Update model parameters using the optimizer\n",
    "\n",
    "        # Display progress and generate song at specified intervals\n",
    "        if epoch % show == 0:\n",
    "            my_song += write_song(model)  # Generate song using the model\n",
    "\n",
    "            print(\"Generated Song:\")\n",
    "            print(\"\\n\")\n",
    "            print(my_song)\n",
    "\n",
    "        MY_LOSS.append(total_loss/len(dataloader))  # Append the total loss for the epoch to MY_LOSS list\n",
    "\n",
    "    return MY_LOSS  # Return the list of  mean loss values for each epoch"
   ]
  },
  {
   "cell_type": "code",
   "execution_count": 102,
   "id": "4edcbb96-a4fa-4676-b333-43293eeab5eb",
   "metadata": {
    "tags": []
   },
   "outputs": [],
   "source": [
    "my_loss_list=[]"
   ]
  },
  {
   "cell_type": "code",
   "execution_count": 108,
   "id": "98aefb93-23ed-4360-8bd4-ac48e95727aa",
   "metadata": {
    "tags": []
   },
   "outputs": [],
   "source": [
    "# Define the context size for the n-gram model\n",
    "CONTEXT_SIZE = 2\n",
    "\n",
    "# Create an instance of the NGramLanguageModeler class with specified parameters\n",
    "model_2 = NGramLanguageModeler(len(vocab), EMBEDDING_DIM, CONTEXT_SIZE).to(device)\n",
    "\n",
    "# Define the optimizer for training the model, using stochastic gradient descent (SGD)\n",
    "optimizer = optim.SGD(model_2.parameters(), lr=0.01)\n",
    "\n",
    "# Set up a learning rate scheduler using StepLR to adjust the learning rate during training\n",
    "scheduler = torch.optim.lr_scheduler.StepLR(optimizer, step_size=1.0, gamma=0.1)"
   ]
  },
  {
   "cell_type": "code",
   "execution_count": 107,
   "id": "b72c096f-3bbd-4434-9cac-6f1e42f32b13",
   "metadata": {
    "tags": []
   },
   "outputs": [
    {
     "name": "stderr",
     "output_type": "stream",
     "text": [
      "  4%|███▎                                                                              | 4/100 [00:00<00:06, 14.39it/s]"
     ]
    },
    {
     "name": "stdout",
     "output_type": "stream",
     "text": [
      "Generated Song:\n",
      "\n",
      "\n",
      " down up give play down full full full going play full desert up play me just strangers of give just up full of how tell full gonna up full full do full full full see going just the give play the just the play if full gotta gonna play tell full play full play game let full just down going play full the going gonna play full full give play let let up full and down up say full do full cry play full know just full play just just full full full do play up too going up say\n"
     ]
    },
    {
     "name": "stderr",
     "output_type": "stream",
     "text": [
      " 14%|███████████▎                                                                     | 14/100 [00:00<00:04, 20.91it/s]"
     ]
    },
    {
     "name": "stdout",
     "output_type": "stream",
     "text": [
      "Generated Song:\n",
      "\n",
      "\n",
      " down up give play down full full full going play full desert up play me just strangers of give just up full of how tell full gonna up full full do full full full see going just the give play the just the play if full gotta gonna play tell full play full play game let full just down going play full the going gonna play full full give play let let up full and down up say full do full cry play full know just full play just just full full full do play up too going up say\n"
     ]
    },
    {
     "name": "stderr",
     "output_type": "stream",
     "text": [
      " 26%|█████████████████████                                                            | 26/100 [00:01<00:03, 22.01it/s]"
     ]
    },
    {
     "name": "stdout",
     "output_type": "stream",
     "text": [
      "Generated Song:\n",
      "\n",
      "\n",
      " down up give play down full full full going play full desert up play me just strangers of give just up full of how tell full gonna up full full do full full full see going just the give play the just the play if full gotta gonna play tell full play full play game let full just down going play full the going gonna play full full give play let let up full and down up say full do full cry play full know just full play just just full full full do play up too going up say\n"
     ]
    },
    {
     "name": "stderr",
     "output_type": "stream",
     "text": [
      " 35%|████████████████████████████▎                                                    | 35/100 [00:01<00:03, 21.52it/s]"
     ]
    },
    {
     "name": "stdout",
     "output_type": "stream",
     "text": [
      "Generated Song:\n",
      "\n",
      "\n",
      " down up give play down full full full going play full desert up play me just strangers of give just up full of how tell full gonna up full full do full full full see going just the give play the just the play if full gotta gonna play tell full play full play game let full just down going play full the going gonna play full full give play let let up full and down up say full do full cry play full know just full play just just full full full do play up too going up say\n"
     ]
    },
    {
     "name": "stderr",
     "output_type": "stream",
     "text": [
      " 44%|███████████████████████████████████▋                                             | 44/100 [00:02<00:02, 22.68it/s]"
     ]
    },
    {
     "name": "stdout",
     "output_type": "stream",
     "text": [
      "Generated Song:\n",
      "\n",
      "\n",
      " down up give play down full full full going play full desert up play me just strangers of give just up full of how tell full gonna up full full do full full full see going just the give play the just the play if full gotta gonna play tell full play full play game let full just down going play full the going gonna play full full give play let let up full and down up say full do full cry play full know just full play just just full full full do play up too going up say\n"
     ]
    },
    {
     "name": "stderr",
     "output_type": "stream",
     "text": [
      " 56%|█████████████████████████████████████████████▎                                   | 56/100 [00:02<00:01, 24.30it/s]"
     ]
    },
    {
     "name": "stdout",
     "output_type": "stream",
     "text": [
      "Generated Song:\n",
      "\n",
      "\n",
      " down up give play down full full full going play full desert up play me just strangers of give just up full of how tell full gonna up full full do full full full see going just the give play the just the play if full gotta gonna play tell full play full play game let full just down going play full the going gonna play full full give play let let up full and down up say full do full cry play full know just full play just just full full full do play up too going up say\n"
     ]
    },
    {
     "name": "stderr",
     "output_type": "stream",
     "text": [
      " 65%|████████████████████████████████████████████████████▋                            | 65/100 [00:02<00:01, 23.99it/s]"
     ]
    },
    {
     "name": "stdout",
     "output_type": "stream",
     "text": [
      "Generated Song:\n",
      "\n",
      "\n",
      " down up give play down full full full going play full desert up play me just strangers of give just up full of how tell full gonna up full full do full full full see going just the give play the just the play if full gotta gonna play tell full play full play game let full just down going play full the going gonna play full full give play let let up full and down up say full do full cry play full know just full play just just full full full do play up too going up say\n"
     ]
    },
    {
     "name": "stderr",
     "output_type": "stream",
     "text": [
      " 75%|████████████████████████████████████████████████████████████▊                    | 75/100 [00:03<00:01, 24.06it/s]"
     ]
    },
    {
     "name": "stdout",
     "output_type": "stream",
     "text": [
      "Generated Song:\n",
      "\n",
      "\n",
      " down up give play down full full full going play full desert up play me just strangers of give just up full of how tell full gonna up full full do full full full see going just the give play the just the play if full gotta gonna play tell full play full play game let full just down going play full the going gonna play full full give play let let up full and down up say full do full cry play full know just full play just just full full full do play up too going up say\n"
     ]
    },
    {
     "name": "stderr",
     "output_type": "stream",
     "text": [
      " 84%|████████████████████████████████████████████████████████████████████             | 84/100 [00:03<00:00, 24.55it/s]"
     ]
    },
    {
     "name": "stdout",
     "output_type": "stream",
     "text": [
      "Generated Song:\n",
      "\n",
      "\n",
      " down up give play down full full full going play full desert up play me just strangers of give just up full of how tell full gonna up full full do full full full see going just the give play the just the play if full gotta gonna play tell full play full play game let full just down going play full the going gonna play full full give play let let up full and down up say full do full cry play full know just full play just just full full full do play up too going up say\n"
     ]
    },
    {
     "name": "stderr",
     "output_type": "stream",
     "text": [
      " 93%|███████████████████████████████████████████████████████████████████████████▎     | 93/100 [00:04<00:00, 23.39it/s]"
     ]
    },
    {
     "name": "stdout",
     "output_type": "stream",
     "text": [
      "Generated Song:\n",
      "\n",
      "\n",
      " down up give play down full full full going play full desert up play me just strangers of give just up full of how tell full gonna up full full do full full full see going just the give play the just the play if full gotta gonna play tell full play full play game let full just down going play full the going gonna play full full give play let let up full and down up say full do full cry play full know just full play just just full full full do play up too going up say\n"
     ]
    },
    {
     "name": "stderr",
     "output_type": "stream",
     "text": [
      "100%|████████████████████████████████████████████████████████████████████████████████| 100/100 [00:04<00:00, 21.86it/s]\n"
     ]
    }
   ],
   "source": [
    "my_loss = train(dataloader , model_2)"
   ]
  },
  {
   "cell_type": "code",
   "execution_count": 105,
   "id": "7d15bc5c-0125-4881-8d0b-5633585ef76b",
   "metadata": {
    "tags": []
   },
   "outputs": [],
   "source": [
    "save_path = '2gram.pth'\n",
    "torch.save(model_2.state_dict(), save_path)\n",
    "my_loss_list.append(my_loss)"
   ]
  },
  {
   "cell_type": "code",
   "execution_count": 109,
   "id": "61b2c86a-f59f-4996-92d9-edfdc31bcd8c",
   "metadata": {
    "tags": []
   },
   "outputs": [
    {
     "data": {
      "image/png": "[encoded data removed]",
      "text/plain": [
       "<Figure size 640x480 with 1 Axes>"
      ]
     },
     "metadata": {},
     "output_type": "display_data"
    }
   ],
   "source": [
    "X = model_2.embeddings.weight.cpu().detach().numpy()\n",
    "tsne = TSNE(n_components=2, random_state=42)\n",
    "X_2d = tsne.fit_transform(X)\n",
    "\n",
    "labels = []\n",
    "\n",
    "for j in range(len(X_2d)):\n",
    "    if j < 20:\n",
    "        plt.scatter(X_2d[j, 0], X_2d[j, 1], label=index_to_token[j])\n",
    "        labels.append(index_to_token[j])\n",
    "        # Add words as annotations\n",
    "        plt.annotate(index_to_token[j],\n",
    "                     (X_2d[j, 0], X_2d[j, 1]),\n",
    "                     textcoords=\"offset points\",\n",
    "                     xytext=(0, 10),\n",
    "                     ha='center')\n",
    "    else:\n",
    "        plt.scatter(X_2d[j, 0], X_2d[j, 1])\n",
    "\n",
    "plt.legend(labels, loc='upper left', bbox_to_anchor=(1, 1))\n",
    "plt.show()"
   ]
  },
  {
   "cell_type": "code",
   "execution_count": 110,
   "id": "17a8dc79-d705-4985-b38e-3d90cb267a8b",
   "metadata": {
    "tags": []
   },
   "outputs": [
    {
     "name": "stderr",
     "output_type": "stream",
     "text": [
      "  3%|██▍                                                                               | 3/100 [00:00<00:09, 10.63it/s]"
     ]
    },
    {
     "name": "stdout",
     "output_type": "stream",
     "text": [
      "Generated Song:\n",
      "\n",
      "\n",
      " never gonna never never the gonna never never never never gonna never shy never never never hearts never just let never make gonna hurt never never thinking understand never gonna going from gonna never never understand gonna never hurt never never never shy never shy gonna make never gonna never never never gonna gonna never never desert shy never gonna never never shy both gonna never wouldnt never gonna never never never never shy shy never let never never gonna never hurt never never never never understand on never gonna hurt never never thinking never never never just gonna gonna\n"
     ]
    },
    {
     "name": "stderr",
     "output_type": "stream",
     "text": [
      " 14%|███████████▎                                                                     | 14/100 [00:00<00:05, 15.32it/s]"
     ]
    },
    {
     "name": "stdout",
     "output_type": "stream",
     "text": [
      "Generated Song:\n",
      "\n",
      "\n",
      " never gonna you never gonna you you never gonna never you never you you gonna gonna never never you gonna never never gonna you you never never gonna never gonna you never gonna gonna you never you never gonna you gonna never gonna never you gonna never gonna make you never never gonna you you never desert you never gonna never you gonna never gonna never you never gonna tell you never never never you never gonna gonna never gonna never you never never never gonna you you never gonna you never never never never never never gonna gonna gonna\n"
     ]
    },
    {
     "name": "stderr",
     "output_type": "stream",
     "text": [
      " 23%|██████████████████▋                                                              | 23/100 [00:01<00:07, 10.64it/s]"
     ]
    },
    {
     "name": "stdout",
     "output_type": "stream",
     "text": [
      "Generated Song:\n",
      "\n",
      "\n",
      " never gonna around never to love you down gonna you you never you you gonna gonna gonna never im gonna say a gonna you you never never gonna make gonna you never gonna gonna you im you never make you and never gonna let you up never gonna let you down never gonna let around and desert you never gonna make you and never gonna say goodbye never gonna tell a lie and desert you never known each never for tell you never never never gonna but youre never gonna you a never never never both know a gonna gonna\n"
     ]
    },
    {
     "name": "stderr",
     "output_type": "stream",
     "text": [
      " 34%|███████████████████████████▌                                                     | 34/100 [00:02<00:04, 15.89it/s]"
     ]
    },
    {
     "name": "stdout",
     "output_type": "stream",
     "text": [
      "Generated Song:\n",
      "\n",
      "\n",
      " never gonna around never to love you down never gonna you never you you gonna gonna gonna never im feeling say a gonna you you never never gonna make i you never and a how im feeling gotta make you and never gonna let you up never gonna let you down never gonna let around and desert you never gonna make you and never gonna say goodbye never gonna tell a lie and hurt you never known each other for tell you never never never aching but youre never shy you a never never never both know whats been going\n"
     ]
    },
    {
     "name": "stderr",
     "output_type": "stream",
     "text": [
      " 43%|██████████████████████████████████▊                                              | 43/100 [00:03<00:03, 15.41it/s]"
     ]
    },
    {
     "name": "stdout",
     "output_type": "stream",
     "text": [
      "Generated Song:\n",
      "\n",
      "\n",
      " never known around never to love you know the gonna you were you you a gonna gonna never im feeling say a cry to this never never gonna make i you never and a how im feeling gotta make you cry never gonna run you up never gonna let you down never gonna run around and desert you never gonna make you cry never gonna say goodbye never gonna tell a lie and hurt you never known each other for so goodbye never never never aching but youre too shy to a never never im both know whats been going\n"
     ]
    },
    {
     "name": "stderr",
     "output_type": "stream",
     "text": [
      " 53%|██████████████████████████████████████████▉                                      | 53/100 [00:03<00:02, 15.81it/s]"
     ]
    },
    {
     "name": "stdout",
     "output_type": "stream",
     "text": [
      "Generated Song:\n",
      "\n",
      "\n",
      " never known no never to love you know the rules you were you you a full commitments what im feeling say a down to this never were other guy i you never and a how im feeling gotta make you cry never gonna run you up never gonna let you down never gonna run around and desert you never gonna make you cry never gonna say goodbye never gonna tell a lie and hurt you never known each other for so goodbye never never never aching but youre too shy to a never i we both know whats been going\n"
     ]
    },
    {
     "name": "stderr",
     "output_type": "stream",
     "text": [
      " 63%|███████████████████████████████████████████████████                              | 63/100 [00:04<00:02, 15.55it/s]"
     ]
    },
    {
     "name": "stdout",
     "output_type": "stream",
     "text": [
      "Generated Song:\n",
      "\n",
      "\n",
      " never are no strangers to love you know the rules and were you you a full commitments what im thinking say whats down to this from any other guy i you never and a how im feeling gotta make you cry never gonna run you up never gonna let you down never gonna run around and desert you never gonna make you cry never gonna say goodbye never gonna tell a lie and hurt you never known each other for so goodbye never never been aching but youre too shy to a never i we both know whats been going\n"
     ]
    },
    {
     "name": "stderr",
     "output_type": "stream",
     "text": [
      " 74%|███████████████████████████████████████████████████████████▉                     | 74/100 [00:04<00:01, 21.58it/s]"
     ]
    },
    {
     "name": "stdout",
     "output_type": "stream",
     "text": [
      "Generated Song:\n",
      "\n",
      "\n",
      " never are no strangers to love you know the rules and were you you a full commitments what im thinking say whats down to this from any other guy i you never and a how im feeling gotta make you cry never gonna run you up never gonna let you down never gonna run around and desert you never gonna make you cry never gonna say goodbye never gonna tell a lie and hurt you never known each other for so goodbye never never been aching but youre too shy to see never i we both know whats been going\n"
     ]
    },
    {
     "name": "stderr",
     "output_type": "stream",
     "text": [
      " 83%|███████████████████████████████████████████████████████████████████▏             | 83/100 [00:05<00:00, 22.60it/s]"
     ]
    },
    {
     "name": "stdout",
     "output_type": "stream",
     "text": [
      "Generated Song:\n",
      "\n",
      "\n",
      " never are no strangers to love you know the rules and were you you a full commitments what im thinking say whats down to this from any other guy i you never and a how im feeling gotta make you cry never gonna run you up never gonna let you down never gonna run around and desert you never gonna make you cry never gonna say goodbye never gonna tell a lie and hurt you never known each other for so goodbye never never been aching but youre too shy to see never i we both know whats been going\n"
     ]
    },
    {
     "name": "stderr",
     "output_type": "stream",
     "text": [
      " 94%|████████████████████████████████████████████████████████████████████████████▏    | 94/100 [00:05<00:00, 19.30it/s]"
     ]
    },
    {
     "name": "stdout",
     "output_type": "stream",
     "text": [
      "Generated Song:\n",
      "\n",
      "\n",
      " never are no strangers to love you know the rules and were you you a full commitments what im thinking say guy down to this from any other guy i you never and a how im feeling gotta make you cry never gonna run you up never gonna let you down never gonna run around and desert you never gonna make you cry never gonna say goodbye never gonna tell a lie and hurt you never known each other for so goodbye never never been aching but youre too shy to see never i we both know whats been going\n"
     ]
    },
    {
     "name": "stderr",
     "output_type": "stream",
     "text": [
      "100%|████████████████████████████████████████████████████████████████████████████████| 100/100 [00:06<00:00, 16.44it/s]\n"
     ]
    }
   ],
   "source": [
    "CONTEXT_SIZE=4\n",
    "model_4 = NGramLanguageModeler(len(vocab), EMBEDDING_DIM, CONTEXT_SIZE).to(device)\n",
    "optimizer = optim.SGD(model_4.parameters(), lr=0.01)\n",
    "scheduler = torch.optim.lr_scheduler.StepLR(optimizer, 1.0, gamma=0.1)\n",
    "my_loss=train(dataloader,model_4 )\n",
    "\n",
    "save_path = '4gram.pth'\n",
    "torch.save(model_4.state_dict(), save_path)\n",
    "\n",
    "my_loss_list.append(my_loss)"
   ]
  },
  {
   "cell_type": "code",
   "execution_count": 111,
   "id": "e1e285f1-1caa-47db-b30f-b39c87ea85e6",
   "metadata": {
    "tags": []
   },
   "outputs": [
    {
     "data": {
      "image/png": "[encoded data removed]",
      "text/plain": [
       "<Figure size 640x480 with 1 Axes>"
      ]
     },
     "metadata": {},
     "output_type": "display_data"
    }
   ],
   "source": [
    "X = model_4.embeddings.weight.cpu().detach().numpy()\n",
    "tsne = TSNE(n_components=2, random_state=42)\n",
    "X_2d = tsne.fit_transform(X)\n",
    "\n",
    "labels = []\n",
    "\n",
    "for j in range(len(X_2d)):\n",
    "    if j < 20:\n",
    "        plt.scatter(X_2d[j, 0], X_2d[j, 1], label=index_to_token[j])\n",
    "        labels.append(index_to_token[j])\n",
    "        # Add words as annotations\n",
    "        plt.annotate(index_to_token[j],\n",
    "                     (X_2d[j, 0], X_2d[j, 1]),\n",
    "                     textcoords=\"offset points\",\n",
    "                     xytext=(0, 10),\n",
    "                     ha='center')\n",
    "    else:\n",
    "        plt.scatter(X_2d[j, 0], X_2d[j, 1])\n",
    "\n",
    "plt.legend(labels, loc='upper left', bbox_to_anchor=(1, 1))\n",
    "plt.show()"
   ]
  },
  {
   "cell_type": "code",
   "execution_count": 112,
   "id": "c516a224-42aa-4c14-9b8b-4c407b6b9f6c",
   "metadata": {
    "tags": []
   },
   "outputs": [
    {
     "name": "stderr",
     "output_type": "stream",
     "text": [
      "  4%|███▎                                                                              | 4/100 [00:00<00:05, 18.45it/s]"
     ]
    },
    {
     "name": "stdout",
     "output_type": "stream",
     "text": [
      "Generated Song:\n",
      "\n",
      "\n",
      " you get you say what say guy hurt im what you on tell you hurt you what you you thinking aching get you never you say what say you been tell you been on gonna give you other gonna say strangers your you run you tell gonna im hurt you you how im gonna you you run say you gonna you you tell gonna gonna game you you gonna run you you been say you you get you let what give you im you your tell see say gonna you say blind thinking gonna you get you say aching you\n"
     ]
    },
    {
     "name": "stderr",
     "output_type": "stream",
     "text": [
      " 14%|███████████▎                                                                     | 14/100 [00:00<00:03, 21.93it/s]"
     ]
    },
    {
     "name": "stdout",
     "output_type": "stream",
     "text": [
      "Generated Song:\n",
      "\n",
      "\n",
      " never make you you for you you you the make you you gonna never tell never tell you you thinking never you you never you you gonna you you i you you never you you never you you make you never never gonna make you down never gonna let you down never gonna let around down never tell never gonna make you down never gonna say you down gonna tell a you never hurt you never make you you for you you you you you make you gonna too shy you never you make you you you gonna been going\n"
     ]
    },
    {
     "name": "stderr",
     "output_type": "stream",
     "text": [
      " 26%|█████████████████████                                                            | 26/100 [00:01<00:03, 22.17it/s]"
     ]
    },
    {
     "name": "stdout",
     "output_type": "stream",
     "text": [
      "Generated Song:\n",
      "\n",
      "\n",
      " never make you other for love you tell the rules make you gonna never it never tell you im thinking never shy you never you you thinking you guy i so you never you you never you you make you never never gonna make you down never gonna let you down never gonna run around and never tell never gonna make you up never gonna say you down gonna tell a lie never hurt you never make you other for so you you you you make you i too shy to never going i other you you gonna been going\n"
     ]
    },
    {
     "name": "stderr",
     "output_type": "stream",
     "text": [
      " 35%|████████████████████████████▎                                                    | 35/100 [00:01<00:02, 24.28it/s]"
     ]
    },
    {
     "name": "stdout",
     "output_type": "stream",
     "text": [
      "Generated Song:\n",
      "\n",
      "\n",
      " never make you other for love you i the rules make you gonna never to never tell you im thinking i shy you never make you thinking you guy i so you never i you never you you make you never never gonna make you down never gonna let you down never gonna run around and never tell never gonna make you up never gonna say you and gonna tell a lie never hurt you never make you other for so you going you you make im i too shy to been going i other you you tell been going\n"
     ]
    },
    {
     "name": "stderr",
     "output_type": "stream",
     "text": [
      " 44%|███████████████████████████████████▋                                             | 44/100 [00:01<00:02, 24.92it/s]"
     ]
    },
    {
     "name": "stdout",
     "output_type": "stream",
     "text": [
      "Generated Song:\n",
      "\n",
      "\n",
      " never make you other for love you i the rules make you gonna never to never tell you im thinking been shy you never make you the you guy i so you never i down never you you make you never never gonna make you down never gonna let you down never gonna run around and never tell never gonna make you up never gonna say you and gonna tell a lie never hurt you never make you other for so you going you you make im i too shy to been going i other you love tell been going\n"
     ]
    },
    {
     "name": "stderr",
     "output_type": "stream",
     "text": [
      " 54%|███████████████████████████████████████████▋                                     | 54/100 [00:02<00:01, 26.44it/s]"
     ]
    },
    {
     "name": "stdout",
     "output_type": "stream",
     "text": [
      "Generated Song:\n",
      "\n",
      "\n",
      " never make you other for love you i the rules make you gonna never to never tell you im thinking been shy you never make you the you guy i so you never i down never you you make you never never gonna make you down never gonna let you down never gonna run around and never hurt never gonna make you up never gonna say you and gonna tell a lie never hurt you never make you other for so you going you you make im i too shy to been going i other you love tell been going\n"
     ]
    },
    {
     "name": "stderr",
     "output_type": "stream",
     "text": [
      " 64%|███████████████████████████████████████████████████▊                             | 64/100 [00:02<00:01, 27.62it/s]"
     ]
    },
    {
     "name": "stdout",
     "output_type": "stream",
     "text": [
      "Generated Song:\n",
      "\n",
      "\n",
      " never make you other for love you i the rules make you gonna never to never tell you im thinking been shy you never make you the you guy i so you never i down never you you make you never never gonna give you down never gonna let you down never gonna run around and never hurt never gonna make you up never gonna say you and gonna tell a lie never hurt you never make you other for so you going you you make im i too shy to been going i other you love tell been going\n"
     ]
    },
    {
     "name": "stderr",
     "output_type": "stream",
     "text": [
      " 75%|████████████████████████████████████████████████████████████▊                    | 75/100 [00:03<00:00, 27.54it/s]"
     ]
    },
    {
     "name": "stdout",
     "output_type": "stream",
     "text": [
      "Generated Song:\n",
      "\n",
      "\n",
      " never make you other for love you i the rules make you gonna never to never tell you im thinking been shy you never make you the love guy i so you never i down never you you make you never never gonna give you down never gonna let you down never gonna run around and never hurt never gonna make you up never gonna say you and gonna tell a lie never hurt you never make you other for so you going you you make im i too shy to been going i other you love tell been going\n"
     ]
    },
    {
     "name": "stderr",
     "output_type": "stream",
     "text": [
      " 85%|████████████████████████████████████████████████████████████████████▊            | 85/100 [00:03<00:00, 27.55it/s]"
     ]
    },
    {
     "name": "stdout",
     "output_type": "stream",
     "text": [
      "Generated Song:\n",
      "\n",
      "\n",
      " never make you other for love you i the rules make you gonna never to never tell you im thinking been shy you never make you the love guy i so you never i down never you you make you never never gonna give you down never gonna let you down never gonna run around and never hurt never gonna make you up never gonna say you and gonna tell a lie never hurt you never make you other for so you going you you make im i too shy to been going i other you love tell been going\n"
     ]
    },
    {
     "name": "stderr",
     "output_type": "stream",
     "text": [
      " 95%|████████████████████████████████████████████████████████████████████████████▉    | 95/100 [00:03<00:00, 27.66it/s]"
     ]
    },
    {
     "name": "stdout",
     "output_type": "stream",
     "text": [
      "Generated Song:\n",
      "\n",
      "\n",
      " never make you other for love you i the rules make you gonna never to i tell you im thinking been shy you never make you the love guy i so you never i down never you you make you never never gonna give you down never gonna let you down never gonna run around and never hurt never gonna make you up never gonna say you and gonna tell a lie never hurt you never make you other for so you going you you make im i too shy to been going i other you love tell been going\n"
     ]
    },
    {
     "name": "stderr",
     "output_type": "stream",
     "text": [
      "100%|████████████████████████████████████████████████████████████████████████████████| 100/100 [00:04<00:00, 24.72it/s]\n"
     ]
    }
   ],
   "source": [
    "CONTEXT_SIZE=8\n",
    "model_8 = NGramLanguageModeler(len(vocab), EMBEDDING_DIM, CONTEXT_SIZE).to(device)\n",
    "optimizer = optim.SGD(model_8.parameters(), lr=0.01)\n",
    "\n",
    "scheduler = torch.optim.lr_scheduler.StepLR(optimizer, 1.0, gamma=0.1)\n",
    "my_loss=train(dataloader,model_8)\n",
    "\n",
    "save_path = '8gram.pth'\n",
    "torch.save(model_8.state_dict(), save_path)\n",
    "\n",
    "my_loss_list.append(my_loss)"
   ]
  },
  {
   "cell_type": "code",
   "execution_count": 113,
   "id": "b6cc029c-b3af-46f6-a730-a9c995ab0dbd",
   "metadata": {
    "tags": []
   },
   "outputs": [
    {
     "data": {
      "image/png": "[encoded data removed]",
      "text/plain": [
       "<Figure size 640x480 with 1 Axes>"
      ]
     },
     "metadata": {},
     "output_type": "display_data"
    }
   ],
   "source": [
    "X = model_8.embeddings.weight.cpu().detach().numpy()\n",
    "tsne = TSNE(n_components=2, random_state=42)\n",
    "X_2d = tsne.fit_transform(X)\n",
    "\n",
    "labels = []\n",
    "\n",
    "for j in range(len(X_2d)):\n",
    "    if j < 20:\n",
    "        plt.scatter(X_2d[j, 0], X_2d[j, 1], label=index_to_token[j])\n",
    "        labels.append(index_to_token[j])\n",
    "        # Add words as annotations\n",
    "        plt.annotate(index_to_token[j],\n",
    "                     (X_2d[j, 0], X_2d[j, 1]),\n",
    "                     textcoords=\"offset points\",\n",
    "                     xytext=(0, 10),\n",
    "                     ha='center')\n",
    "    else:\n",
    "        plt.scatter(X_2d[j, 0], X_2d[j, 1])\n",
    "\n",
    "plt.legend(labels, loc='upper left', bbox_to_anchor=(1, 1))\n",
    "plt.show()"
   ]
  },
  {
   "cell_type": "code",
   "execution_count": 114,
   "id": "297f9521-5a9e-495e-bb59-a9b44e91a9d0",
   "metadata": {
    "tags": []
   },
   "outputs": [
    {
     "data": {
      "image/png": "[encoded data removed]",
      "text/plain": [
       "<Figure size 640x480 with 1 Axes>"
      ]
     },
     "metadata": {},
     "output_type": "display_data"
    }
   ],
   "source": [
    "\n",
    "for (my_loss, model_name)in zip(my_loss_list,[\"2-gram\",\"4-gram\",\"8-gram\"]):\n",
    "    plt.plot(my_loss,label=\"Cross-entropy Loss - {}\".format(model_name))\n",
    "    plt.legend()\n",
    "\n"
   ]
  },
  {
   "cell_type": "code",
   "execution_count": null,
   "id": "aa61ecb3-d586-4bd2-9fa5-cdc41993b12f",
   "metadata": {},
   "outputs": [],
   "source": []
  },
  {
   "cell_type": "code",
   "execution_count": null,
   "id": "32ec45f3-0436-424c-b39a-69c0cd3f49ef",
   "metadata": {},
   "outputs": [],
   "source": []
  }
 ],
 "metadata": {
  "kernelspec": {
   "display_name": "Python 3 (ipykernel)",
   "language": "python",
   "name": "python3"
  },
  "language_info": {
   "codemirror_mode": {
    "name": "ipython",
    "version": 3
   },
   "file_extension": ".py",
   "mimetype": "text/x-python",
   "name": "python",
   "nbconvert_exporter": "python",
   "pygments_lexer": "ipython3",
   "version": "3.11.5"
  }
 },
 "nbformat": 4,
 "nbformat_minor": 5
}
