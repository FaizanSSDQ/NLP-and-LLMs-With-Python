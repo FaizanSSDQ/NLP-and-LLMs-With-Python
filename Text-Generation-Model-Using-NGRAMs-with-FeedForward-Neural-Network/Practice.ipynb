{
 "cells": [
  {
   "cell_type": "code",
   "execution_count": 2,
   "id": "2e13d24a-9027-4269-b394-3efad3e7108d",
   "metadata": {
    "tags": []
   },
   "outputs": [
    {
     "ename": "TypeError",
     "evalue": "unsupported operand type(s) for ** or pow(): 'list' and 'int'",
     "output_type": "error",
     "traceback": [
      "\u001b[1;31m---------------------------------------------------------------------------\u001b[0m",
      "\u001b[1;31mTypeError\u001b[0m                                 Traceback (most recent call last)",
      "Cell \u001b[1;32mIn[2], line 2\u001b[0m\n\u001b[0;32m      1\u001b[0m x \u001b[38;5;241m=\u001b[39m [\u001b[38;5;241m25\u001b[39m , \u001b[38;5;241m26\u001b[39m , \u001b[38;5;241m27\u001b[39m , \u001b[38;5;241m28\u001b[39m , \u001b[38;5;241m29\u001b[39m , \u001b[38;5;241m30\u001b[39m]\n\u001b[1;32m----> 2\u001b[0m y \u001b[38;5;241m=\u001b[39m [x\u001b[38;5;241m*\u001b[39m\u001b[38;5;241m*\u001b[39m\u001b[38;5;241m2\u001b[39m \u001b[38;5;28;01mfor\u001b[39;00m i \u001b[38;5;129;01min\u001b[39;00m x]\n",
      "Cell \u001b[1;32mIn[2], line 2\u001b[0m, in \u001b[0;36m<listcomp>\u001b[1;34m(.0)\u001b[0m\n\u001b[0;32m      1\u001b[0m x \u001b[38;5;241m=\u001b[39m [\u001b[38;5;241m25\u001b[39m , \u001b[38;5;241m26\u001b[39m , \u001b[38;5;241m27\u001b[39m , \u001b[38;5;241m28\u001b[39m , \u001b[38;5;241m29\u001b[39m , \u001b[38;5;241m30\u001b[39m]\n\u001b[1;32m----> 2\u001b[0m y \u001b[38;5;241m=\u001b[39m [x\u001b[38;5;241m*\u001b[39m\u001b[38;5;241m*\u001b[39m\u001b[38;5;241m2\u001b[39m \u001b[38;5;28;01mfor\u001b[39;00m i \u001b[38;5;129;01min\u001b[39;00m x]\n",
      "\u001b[1;31mTypeError\u001b[0m: unsupported operand type(s) for ** or pow(): 'list' and 'int'"
     ]
    }
   ],
   "source": [
    "x = [25 , 26 , 27 , 28 , 29 , 30]\n",
    "y = [x**2 for i in x]"
   ]
  },
  {
   "cell_type": "code",
   "execution_count": 5,
   "id": "3c0b467f-2306-431a-8dc5-2de272ce34ba",
   "metadata": {
    "tags": []
   },
   "outputs": [],
   "source": [
    "numbers = [25 , 26 , 27 , 28 , 29 , 30]\n",
    "context_size = 2\n",
    "ngrams = [ \n",
    "        ( \n",
    "            [numbers[i-j-1] for j in range(context_size) ], \n",
    "            numbers[i] \n",
    "        ) for i in range(context_size , len(numbers)) \n",
    "        ]"
   ]
  },
  {
   "cell_type": "code",
   "execution_count": 6,
   "id": "4988d483-f728-4d68-a6ec-fa28cb94e4cf",
   "metadata": {
    "tags": []
   },
   "outputs": [
    {
     "name": "stdout",
     "output_type": "stream",
     "text": [
      "[([26, 25], 27), ([27, 26], 28), ([28, 27], 29), ([29, 28], 30)]\n"
     ]
    }
   ],
   "source": [
    "print(ngrams)"
   ]
  },
  {
   "cell_type": "code",
   "execution_count": 8,
   "id": "6c2720de-ab5c-4e7b-9e0f-03bf1f3586c6",
   "metadata": {},
   "outputs": [
    {
     "name": "stdout",
     "output_type": "stream",
     "text": [
      "1\n"
     ]
    }
   ],
   "source": [
    "\n",
    "print(x)"
   ]
  },
  {
   "cell_type": "code",
   "execution_count": 10,
   "id": "b800e96a-300f-4e78-9760-fe6fea77b8fe",
   "metadata": {
    "tags": []
   },
   "outputs": [
    {
     "name": "stdout",
     "output_type": "stream",
     "text": [
      "3\n"
     ]
    }
   ],
   "source": [
    "y = 343%10\n",
    "print(y)"
   ]
  },
  {
   "cell_type": "code",
   "execution_count": null,
   "id": "7bb113c7-b58a-42a6-85aa-f256b1c0564a",
   "metadata": {},
   "outputs": [],
   "source": []
  }
 ],
 "metadata": {
  "kernelspec": {
   "display_name": "Python 3 (ipykernel)",
   "language": "python",
   "name": "python3"
  },
  "language_info": {
   "codemirror_mode": {
    "name": "ipython",
    "version": 3
   },
   "file_extension": ".py",
   "mimetype": "text/x-python",
   "name": "python",
   "nbconvert_exporter": "python",
   "pygments_lexer": "ipython3",
   "version": "3.11.5"
  }
 },
 "nbformat": 4,
 "nbformat_minor": 5
}
